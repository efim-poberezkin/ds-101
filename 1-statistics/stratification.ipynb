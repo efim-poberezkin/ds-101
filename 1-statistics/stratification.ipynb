{
 "cells": [
  {
   "cell_type": "code",
   "execution_count": 1,
   "metadata": {},
   "outputs": [],
   "source": [
    "from math import sqrt\n",
    "\n",
    "import numpy as np\n",
    "import seaborn as sns\n",
    "\n",
    "sns.set_style('whitegrid')"
   ]
  },
  {
   "cell_type": "code",
   "execution_count": 2,
   "metadata": {},
   "outputs": [],
   "source": [
    "def generate_rnorms(N, Ws, params_list):\n",
    "    rnorms = [np.random.normal(params[0], params[1], round(N*w)) for params, w in zip(params_list, Ws)]\n",
    "    mix = np.concatenate(rnorms)\n",
    "    mix_strs = [f'{w}×N({params[0]}, {params[1]})' for params, w in zip(params_list, Ws)]\n",
    "    print (' + '.join(mix_strs))\n",
    "    print(f'Population mean: {np.mean(mix)}')\n",
    "    print(f'Population variance: {np.var(mix)}')\n",
    "    _ = sns.kdeplot(mix, bw=0.5)\n",
    "    return rnorms"
   ]
  },
  {
   "cell_type": "code",
   "execution_count": 3,
   "metadata": {},
   "outputs": [],
   "source": [
    "def print_modelling_and_estimation_results(choice, iters, n, rnorms, Ws, params_list):\n",
    "    print(f'Choice: {choice}')\n",
    "    if choice.startswith('stratify'):\n",
    "        strat_sample_sizes = get_strat_sample_sizes(n, Ws, params_list, strategy=choice.rsplit('_', 1)[1])\n",
    "        n = strat_sample_sizes\n",
    "        print(f'Strat samples sizes: {n}')\n",
    "    \n",
    "    print('Modelling results')\n",
    "    modelling_stats = model_point_estimates(choice, iters, n, rnorms)\n",
    "    print_stats(modelling_stats)\n",
    "    \n",
    "    if choice.startswith('stratify'):\n",
    "        print('Estimation results')\n",
    "        estimation_stats = estimate_point_estimates(rnorms, strat_sample_sizes, Ws)\n",
    "        print_stats(estimation_stats)\n",
    "\n",
    "def print_stats(stats):\n",
    "    print(f'\\tMean mean: {stats[0]}')\n",
    "    print(f'\\tMean variance: {stats[1]}')\n",
    "    print(f'\\tVariance mean: {stats[2]}')\n",
    "    print(f'\\tVariance variance: {stats[3]}')"
   ]
  },
  {
   "cell_type": "code",
   "execution_count": 4,
   "metadata": {},
   "outputs": [],
   "source": [
    "def get_strat_sample_sizes(n, Ws, params_list, strategy):\n",
    "    if strategy == 'prop':\n",
    "        nks = [int(n * w) for w in Ws]\n",
    "    elif strategy == 'optimal':\n",
    "        np_Ws = np.array(Ws)\n",
    "        np_sigmas = np.array([sqrt(sigma_square) for _, sigma_square in params_list])\n",
    "        props = np.divide(np.multiply(np_Ws, np_sigmas), np.dot(np_Ws, np_sigmas))\n",
    "        nks = [int(round(n * prop)) for prop in props]\n",
    "    return nks"
   ]
  },
  {
   "cell_type": "code",
   "execution_count": 5,
   "metadata": {},
   "outputs": [],
   "source": [
    "def model_point_estimates(choice, iters, n, rnorms):\n",
    "    \"\"\"Models point estimates by repeated sampling.\n",
    "    \n",
    "    If `choice` is stratification based `n` is expected to be list of strat sample sizes. \n",
    "    \"\"\"\n",
    "    means = []\n",
    "    variances = []\n",
    "    for i in range(iters):    \n",
    "        if choice == 'simple':\n",
    "            mix = np.concatenate(rnorms)\n",
    "            sample = np.random.choice(mix, n)\n",
    "            means.append(np.mean(sample))\n",
    "            variances.append(np.var(sample))\n",
    "        elif choice.startswith('stratify'):\n",
    "            strat_samples = [np.random.choice(rnorm, nk) for rnorm, nk in zip(rnorms, n)]\n",
    "            strat_mix = np.concatenate(strat_samples)\n",
    "            means.append(np.mean(strat_mix))\n",
    "            variances.append(np.var(strat_mix))\n",
    "    return np.mean(means), np.var(means), np.mean(variances), np.var(variances)"
   ]
  },
  {
   "cell_type": "code",
   "execution_count": 6,
   "metadata": {},
   "outputs": [],
   "source": [
    "def estimate_point_estimates(rnorms, strat_sample_sizes, Ws):\n",
    "    strat_samples = [np.random.choice(rnorm, nk) for rnorm, nk in zip(rnorms, strat_sample_sizes)]\n",
    "    strat_means = np.array([np.mean(sample) for sample in strat_samples])\n",
    "    strat_vars = np.array([np.var(sample) for sample in strat_samples])\n",
    "    w = np.array(Ws)\n",
    "    strats_number = len(strat_sample_sizes)\n",
    "    \n",
    "    mean_mean = np.dot(w, np.full(strats_number, np.mean(strat_means)))\n",
    "    mean_var = np.dot(np.square(w), np.full(strats_number, np.var(strat_means)))\n",
    "    w_dot_mean_minus_mean = np.subtract(np.dot(w, strat_means), strat_means)\n",
    "    var_mean = np.add(np.dot(w, np.full(strats_number, np.mean(strat_vars))), np.dot(w, np.full(strats_number, np.square(np.mean(w_dot_mean_minus_mean)))))\n",
    "    var_var = np.add(np.dot(np.square(w), np.full(strats_number, np.var(strat_vars))), np.var(np.dot(w, np.square(w_dot_mean_minus_mean))))\n",
    "    \n",
    "    return mean_mean, mean_var, var_mean, var_var"
   ]
  },
  {
   "cell_type": "code",
   "execution_count": 7,
   "metadata": {},
   "outputs": [],
   "source": [
    "_iters = 1000\n",
    "_N = 500\n",
    "_n = 40\n",
    "_Ws = [0.3, 0.5, 0.2]"
   ]
  },
  {
   "cell_type": "markdown",
   "metadata": {},
   "source": [
    "### Same means and vars"
   ]
  },
  {
   "cell_type": "code",
   "execution_count": 8,
   "metadata": {},
   "outputs": [
    {
     "name": "stdout",
     "output_type": "stream",
     "text": [
      "0.3×N(3, 1) + 0.5×N(3, 1) + 0.2×N(3, 1)\n",
      "Population mean: 2.958387880754215\n",
      "Population variance: 1.0105541916841336\n"
     ]
    },
    {
     "data": {
      "image/png": "[encoded data removed]",
      "text/plain": [
       "<Figure size 432x288 with 1 Axes>"
      ]
     },
     "metadata": {
      "needs_background": "light"
     },
     "output_type": "display_data"
    }
   ],
   "source": [
    "_params_list = [(3, 1), (3, 1), (3, 1)]\n",
    "_rnorms = generate_rnorms(_N, _Ws, _params_list)"
   ]
  },
  {
   "cell_type": "markdown",
   "metadata": {},
   "source": [
    "##### Simple random choice"
   ]
  },
  {
   "cell_type": "code",
   "execution_count": 9,
   "metadata": {},
   "outputs": [
    {
     "name": "stdout",
     "output_type": "stream",
     "text": [
      "Choice: simple\n",
      "Modelling results\n",
      "\tMean mean: 2.9613820643416533\n",
      "\tMean variance: 0.024626471704460185\n",
      "\tVariance mean: 0.9842507416337312\n",
      "\tVariance variance: 0.05475573608671973\n"
     ]
    }
   ],
   "source": [
    "print_modelling_and_estimation_results('simple', _iters, _n, _rnorms, _Ws, _params_list)"
   ]
  },
  {
   "cell_type": "markdown",
   "metadata": {},
   "source": [
    "##### Stratified proportionally"
   ]
  },
  {
   "cell_type": "code",
   "execution_count": 10,
   "metadata": {},
   "outputs": [
    {
     "name": "stdout",
     "output_type": "stream",
     "text": [
      "Choice: stratify_prop\n",
      "Strat samples sizes: [12, 20, 8]\n",
      "Modelling results\n",
      "\tMean mean: 2.9504713863019605\n",
      "\tMean variance: 0.026541022712204557\n",
      "\tVariance mean: 0.9827951542563723\n",
      "\tVariance variance: 0.054359721503052114\n",
      "Estimation results\n",
      "\tMean mean: 2.879894950827696\n",
      "\tMean variance: 0.05169283205106852\n",
      "\tVariance mean: 0.6601858828935958\n",
      "\tVariance variance: 0.008938140438434022\n"
     ]
    }
   ],
   "source": [
    "print_modelling_and_estimation_results('stratify_prop', _iters, _n, _rnorms, _Ws, _params_list)"
   ]
  },
  {
   "cell_type": "markdown",
   "metadata": {},
   "source": [
    "##### Stratified optimally"
   ]
  },
  {
   "cell_type": "code",
   "execution_count": 11,
   "metadata": {},
   "outputs": [
    {
     "name": "stdout",
     "output_type": "stream",
     "text": [
      "Choice: stratify_optimal\n",
      "Strat samples sizes: [12, 20, 8]\n",
      "Modelling results\n",
      "\tMean mean: 2.9552526879664227\n",
      "\tMean variance: 0.02590031404684976\n",
      "\tVariance mean: 0.9926414918539672\n",
      "\tVariance variance: 0.0636320866080864\n",
      "Estimation results\n",
      "\tMean mean: 2.8622551774299523\n",
      "\tMean variance: 0.0036785672709565786\n",
      "\tVariance mean: 0.8803718804027325\n",
      "\tVariance variance: 0.06346397003102404\n"
     ]
    }
   ],
   "source": [
    "print_modelling_and_estimation_results('stratify_optimal', _iters, _n, _rnorms, _Ws, _params_list)"
   ]
  },
  {
   "cell_type": "markdown",
   "metadata": {},
   "source": [
    "### Different means same vars"
   ]
  },
  {
   "cell_type": "code",
   "execution_count": 12,
   "metadata": {},
   "outputs": [
    {
     "name": "stdout",
     "output_type": "stream",
     "text": [
      "0.3×N(0, 1) + 0.5×N(10, 1) + 0.2×N(3, 1)\n",
      "Population mean: 5.536510191031865\n",
      "Population variance: 22.288264007017307\n"
     ]
    },
    {
     "data": {
      "image/png": "[encoded data removed]",
      "text/plain": [
       "<Figure size 432x288 with 1 Axes>"
      ]
     },
     "metadata": {
      "needs_background": "light"
     },
     "output_type": "display_data"
    }
   ],
   "source": [
    "_params_list = [(0, 1), (10, 1), (3, 1)]\n",
    "_rnorms = generate_rnorms(_N, _Ws, _params_list)"
   ]
  },
  {
   "cell_type": "markdown",
   "metadata": {},
   "source": [
    "##### Simple random choice"
   ]
  },
  {
   "cell_type": "code",
   "execution_count": 13,
   "metadata": {},
   "outputs": [
    {
     "name": "stdout",
     "output_type": "stream",
     "text": [
      "Choice: simple\n",
      "Modelling results\n",
      "\tMean mean: 5.510043017336902\n",
      "\tMean variance: 0.5695630109978718\n",
      "\tVariance mean: 21.642437901513365\n",
      "\tVariance variance: 4.314827881096413\n"
     ]
    }
   ],
   "source": [
    "print_modelling_and_estimation_results('simple', _iters, _n, _rnorms, _Ws, _params_list)"
   ]
  },
  {
   "cell_type": "markdown",
   "metadata": {},
   "source": [
    "##### Stratified proportionally"
   ]
  },
  {
   "cell_type": "code",
   "execution_count": 14,
   "metadata": {},
   "outputs": [
    {
     "name": "stdout",
     "output_type": "stream",
     "text": [
      "Choice: stratify_prop\n",
      "Strat samples sizes: [12, 20, 8]\n",
      "Modelling results\n",
      "\tMean mean: 5.538557927877181\n",
      "\tMean variance: 0.02071495842561454\n",
      "\tVariance mean: 22.2532315435177\n",
      "\tVariance variance: 1.9913586607201605\n",
      "Estimation results\n",
      "\tMean mean: 4.2533483777897665\n",
      "\tMean variance: 7.78036975497361\n",
      "\tVariance mean: 2.4366070457275684\n",
      "\tVariance variance: 0.0024435449902620067\n"
     ]
    }
   ],
   "source": [
    "print_modelling_and_estimation_results('stratify_prop', _iters, _n, _rnorms, _Ws, _params_list)"
   ]
  },
  {
   "cell_type": "markdown",
   "metadata": {},
   "source": [
    "##### Stratified optimally"
   ]
  },
  {
   "cell_type": "code",
   "execution_count": 15,
   "metadata": {},
   "outputs": [
    {
     "name": "stdout",
     "output_type": "stream",
     "text": [
      "Choice: stratify_optimal\n",
      "Strat samples sizes: [12, 20, 8]\n",
      "Modelling results\n",
      "\tMean mean: 5.537248830099438\n",
      "\tMean variance: 0.02184669996525459\n",
      "\tVariance mean: 22.260227880112144\n",
      "\tVariance variance: 1.9214463928577943\n",
      "Estimation results\n",
      "\tMean mean: 4.113428377503908\n",
      "\tMean variance: 7.375700046747949\n",
      "\tVariance mean: 2.4823547112475612\n",
      "\tVariance variance: 0.030798490335145028\n"
     ]
    }
   ],
   "source": [
    "print_modelling_and_estimation_results('stratify_optimal', _iters, _n, _rnorms, _Ws, _params_list)"
   ]
  },
  {
   "cell_type": "markdown",
   "metadata": {},
   "source": [
    "### Different means and vars"
   ]
  },
  {
   "cell_type": "code",
   "execution_count": 16,
   "metadata": {},
   "outputs": [
    {
     "name": "stdout",
     "output_type": "stream",
     "text": [
      "0.3×N(0, 0.5) + 0.5×N(10, 1) + 0.2×N(3, 0.1)\n",
      "Population mean: 5.570714491971751\n",
      "Population variance: 20.984143213551075\n"
     ]
    },
    {
     "data": {
      "image/png": "[encoded data removed]",
      "text/plain": [
       "<Figure size 432x288 with 1 Axes>"
      ]
     },
     "metadata": {
      "needs_background": "light"
     },
     "output_type": "display_data"
    }
   ],
   "source": [
    "_params_list = [(0, .5), (10, 1), (3, .1)]\n",
    "_rnorms = generate_rnorms(_N, _Ws, _params_list)"
   ]
  },
  {
   "cell_type": "markdown",
   "metadata": {},
   "source": [
    "##### Simple random choice"
   ]
  },
  {
   "cell_type": "code",
   "execution_count": 17,
   "metadata": {},
   "outputs": [
    {
     "name": "stdout",
     "output_type": "stream",
     "text": [
      "Choice: simple\n",
      "Modelling results\n",
      "\tMean mean: 5.565275609074417\n",
      "\tMean variance: 0.5259001789532347\n",
      "\tVariance mean: 20.511215853654672\n",
      "\tVariance variance: 3.6970006059781304\n"
     ]
    }
   ],
   "source": [
    "print_modelling_and_estimation_results('simple', _iters, _n, _rnorms, _Ws, _params_list)"
   ]
  },
  {
   "cell_type": "markdown",
   "metadata": {},
   "source": [
    "##### Stratified proportionally"
   ]
  },
  {
   "cell_type": "code",
   "execution_count": 18,
   "metadata": {},
   "outputs": [
    {
     "name": "stdout",
     "output_type": "stream",
     "text": [
      "Choice: stratify_prop\n",
      "Strat samples sizes: [12, 20, 8]\n",
      "Modelling results\n",
      "\tMean mean: 5.564662148524614\n",
      "\tMean variance: 0.015050986377702181\n",
      "\tVariance mean: 20.89985505309516\n",
      "\tVariance variance: 1.3443234703288958\n",
      "Estimation results\n",
      "\tMean mean: 4.207904150455545\n",
      "\tMean variance: 5.900477133634235\n",
      "\tVariance mean: 1.8281636290572243\n",
      "\tVariance variance: 0.07104891180348238\n"
     ]
    }
   ],
   "source": [
    "print_modelling_and_estimation_results('stratify_prop', _iters, _n, _rnorms, _Ws, _params_list)"
   ]
  },
  {
   "cell_type": "markdown",
   "metadata": {},
   "source": [
    "##### Stratified optimally"
   ]
  },
  {
   "cell_type": "code",
   "execution_count": 19,
   "metadata": {},
   "outputs": [
    {
     "name": "stdout",
     "output_type": "stream",
     "text": [
      "Choice: stratify_optimal\n",
      "Strat samples sizes: [11, 26, 3]\n",
      "Modelling results\n",
      "\tMean mean: 6.690109227626129\n",
      "\tMean variance: 0.017540278736590118\n",
      "\tVariance mean: 21.11725759778727\n",
      "\tVariance variance: 1.0557905495564668\n",
      "Estimation results\n",
      "\tMean mean: 4.4801444919335855\n",
      "\tMean variance: 6.6916221930700175\n",
      "\tVariance mean: 2.1843403062820332\n",
      "\tVariance variance: 0.17932785315644278\n"
     ]
    }
   ],
   "source": [
    "print_modelling_and_estimation_results('stratify_optimal', _iters, _n, _rnorms, _Ws, _params_list)"
   ]
  },
  {
   "cell_type": "code",
   "execution_count": null,
   "metadata": {},
   "outputs": [],
   "source": []
  }
 ],
 "metadata": {
  "kernelspec": {
   "display_name": "Python 3",
   "language": "python",
   "name": "python3"
  },
  "language_info": {
   "codemirror_mode": {
    "name": "ipython",
    "version": 3
   },
   "file_extension": ".py",
   "mimetype": "text/x-python",
   "name": "python",
   "nbconvert_exporter": "python",
   "pygments_lexer": "ipython3",
   "version": "3.7.3"
  }
 },
 "nbformat": 4,
 "nbformat_minor": 4
}
