{
 "cells": [
  {
   "cell_type": "code",
   "execution_count": 1,
   "metadata": {},
   "outputs": [],
   "source": [
    "from math import sqrt\n",
    "\n",
    "import numpy as np\n",
    "import seaborn as sns\n",
    "\n",
    "sns.set_palette('muted')\n",
    "sns.set_style('whitegrid')"
   ]
  },
  {
   "cell_type": "code",
   "execution_count": 2,
   "metadata": {},
   "outputs": [],
   "source": [
    "def generate_rnorms(N, Ws, params_list):\n",
    "    rnorms = [np.random.normal(params[0], params[1], round(N*w)) for params, w in zip(params_list, Ws)]\n",
    "    mix = np.concatenate(rnorms)\n",
    "    mix_strs = [f'{w}×N({params[0]}, {params[1]})' for params, w in zip(params_list, Ws)]\n",
    "    print (' + '.join(mix_strs))\n",
    "    print(f'Population mean: {np.mean(mix)}')\n",
    "    print(f'Population variance: {np.var(mix)}')\n",
    "    _ = sns.kdeplot(mix, bw=0.5)\n",
    "    return rnorms"
   ]
  },
  {
   "cell_type": "code",
   "execution_count": 3,
   "metadata": {},
   "outputs": [],
   "source": [
    "def print_modelling_and_estimation_results(choice, iters, n, rnorms, Ws, params_list):\n",
    "    print(f'Choice: {choice}')\n",
    "    if choice.startswith('stratify'):\n",
    "        strat_sample_sizes = get_strat_sample_sizes(n, Ws, params_list, strategy=choice.rsplit('_', 1)[1])\n",
    "        n = strat_sample_sizes\n",
    "        print(f'Strat samples sizes: {n}')\n",
    "    \n",
    "    print('Modelling results')\n",
    "    modelling_stats = model_point_estimates(choice, iters, n, rnorms)\n",
    "    print_stats(modelling_stats)\n",
    "    \n",
    "    if choice.startswith('stratify'):\n",
    "        print('Estimation results')\n",
    "        estimation_stats = estimate_point_estimates(rnorms, strat_sample_sizes, Ws)\n",
    "        print_stats(estimation_stats)\n",
    "\n",
    "def print_stats(stats):\n",
    "    print(f'\\tMean mean: {stats[0]}')\n",
    "    print(f'\\tMean variance: {stats[1]}')\n",
    "    print(f'\\tVariance mean: {stats[2]}')\n",
    "    print(f'\\tVariance variance: {stats[3]}')"
   ]
  },
  {
   "cell_type": "code",
   "execution_count": 4,
   "metadata": {},
   "outputs": [],
   "source": [
    "def get_strat_sample_sizes(n, Ws, params_list, strategy):\n",
    "    if strategy == 'prop':\n",
    "        nks = [int(n * w) for w in Ws]\n",
    "    elif strategy == 'optimal':\n",
    "        np_Ws = np.array(Ws)\n",
    "        np_sigmas = np.array([sqrt(sigma_square) for _, sigma_square in params_list])\n",
    "        props = np.divide(np.multiply(np_Ws, np_sigmas), np.dot(np_Ws, np_sigmas))\n",
    "        nks = [int(round(n * prop)) for prop in props]\n",
    "    return nks"
   ]
  },
  {
   "cell_type": "code",
   "execution_count": 5,
   "metadata": {},
   "outputs": [],
   "source": [
    "def model_point_estimates(choice, iters, n, rnorms):\n",
    "    \"\"\"Models point estimates by repeated sampling.\n",
    "    \n",
    "    If `choice` is stratification based `n` is expected to be list of strat sample sizes. \n",
    "    \"\"\"\n",
    "    means = []\n",
    "    variances = []\n",
    "    for i in range(iters):    \n",
    "        if choice == 'simple':\n",
    "            mix = np.concatenate(rnorms)\n",
    "            sample = np.random.choice(mix, n)\n",
    "            means.append(np.mean(sample))\n",
    "            variances.append(np.var(sample))\n",
    "        elif choice.startswith('stratify'):\n",
    "            strat_samples = [np.random.choice(rnorm, nk) for rnorm, nk in zip(rnorms, n)]\n",
    "            strat_mix = np.concatenate(strat_samples)\n",
    "            means.append(np.mean(strat_mix))\n",
    "            variances.append(np.var(strat_mix))\n",
    "    return np.mean(means), np.var(means), np.mean(variances), np.var(variances)"
   ]
  },
  {
   "cell_type": "code",
   "execution_count": 6,
   "metadata": {},
   "outputs": [],
   "source": [
    "def estimate_point_estimates(rnorms, strat_sample_sizes, Ws):\n",
    "    strat_samples = [np.random.choice(rnorm, nk) for rnorm, nk in zip(rnorms, strat_sample_sizes)]\n",
    "    strat_means = np.array([np.mean(sample) for sample in strat_samples])\n",
    "    strat_vars = np.array([np.var(sample) for sample in strat_samples])\n",
    "    w = np.array(Ws)\n",
    "    strats_number = len(strat_sample_sizes)\n",
    "    \n",
    "    mean_mean = np.dot(w, strat_means)\n",
    "    mean_var = np.dot(np.square(w), strat_vars)\n",
    "    w_dot_mean_minus_mean = np.subtract(np.dot(w, strat_means), strat_means)\n",
    "    var_mean = np.add(np.dot(w, strat_vars), np.dot(w, np.square(w_dot_mean_minus_mean)))\n",
    "    var_var = np.add(np.dot(w, strat_vars), np.var(np.dot(w, np.square(w_dot_mean_minus_mean))))\n",
    "    \n",
    "    return mean_mean, mean_var, var_mean, var_var"
   ]
  },
  {
   "cell_type": "code",
   "execution_count": 7,
   "metadata": {},
   "outputs": [],
   "source": [
    "_iters = 1000\n",
    "_N = 500\n",
    "_n = 100\n",
    "_Ws = [0.3, 0.5, 0.2]"
   ]
  },
  {
   "cell_type": "markdown",
   "metadata": {},
   "source": [
    "### Same means and vars"
   ]
  },
  {
   "cell_type": "code",
   "execution_count": 8,
   "metadata": {},
   "outputs": [
    {
     "name": "stdout",
     "output_type": "stream",
     "text": [
      "0.3×N(3, 1) + 0.5×N(3, 1) + 0.2×N(3, 1)\n",
      "Population mean: 2.930628356695031\n",
      "Population variance: 0.9771020367036172\n"
     ]
    },
    {
     "data": {
      "image/png": "[encoded data removed]",
      "text/plain": [
       "<Figure size 432x288 with 1 Axes>"
      ]
     },
     "metadata": {
      "needs_background": "light"
     },
     "output_type": "display_data"
    }
   ],
   "source": [
    "_params_list = [(3, 1), (3, 1), (3, 1)]\n",
    "_rnorms = generate_rnorms(_N, _Ws, _params_list)"
   ]
  },
  {
   "cell_type": "markdown",
   "metadata": {},
   "source": [
    "##### Simple random choice"
   ]
  },
  {
   "cell_type": "code",
   "execution_count": 9,
   "metadata": {},
   "outputs": [
    {
     "name": "stdout",
     "output_type": "stream",
     "text": [
      "Choice: simple\n",
      "Modelling results\n",
      "\tMean mean: 2.9314403713954422\n",
      "\tMean variance: 0.010092848033377073\n",
      "\tVariance mean: 0.9688629653973488\n",
      "\tVariance variance: 0.016918046045290205\n"
     ]
    }
   ],
   "source": [
    "print_modelling_and_estimation_results('simple', _iters, _n, _rnorms, _Ws, _params_list)"
   ]
  },
  {
   "cell_type": "markdown",
   "metadata": {},
   "source": [
    "##### Stratified proportionally"
   ]
  },
  {
   "cell_type": "code",
   "execution_count": 10,
   "metadata": {},
   "outputs": [
    {
     "name": "stdout",
     "output_type": "stream",
     "text": [
      "Choice: stratify_prop\n",
      "Strat samples sizes: [30, 50, 20]\n",
      "Modelling results\n",
      "\tMean mean: 2.931784254129746\n",
      "\tMean variance: 0.009485787977886783\n",
      "\tVariance mean: 0.965962697974105\n",
      "\tVariance variance: 0.017158747551849034\n",
      "Estimation results\n",
      "\tMean mean: 2.9116118478136093\n",
      "\tMean variance: 0.3817512955965351\n",
      "\tVariance mean: 0.9340866998872596\n",
      "\tVariance variance: 0.9332995504872956\n"
     ]
    }
   ],
   "source": [
    "print_modelling_and_estimation_results('stratify_prop', _iters, _n, _rnorms, _Ws, _params_list)"
   ]
  },
  {
   "cell_type": "markdown",
   "metadata": {},
   "source": [
    "##### Stratified optimally"
   ]
  },
  {
   "cell_type": "code",
   "execution_count": 11,
   "metadata": {},
   "outputs": [
    {
     "name": "stdout",
     "output_type": "stream",
     "text": [
      "Choice: stratify_optimal\n",
      "Strat samples sizes: [30, 50, 20]\n",
      "Modelling results\n",
      "\tMean mean: 2.9270122512999213\n",
      "\tMean variance: 0.01060679290011059\n",
      "\tVariance mean: 0.9677058337362807\n",
      "\tVariance variance: 0.01712245859127299\n",
      "Estimation results\n",
      "\tMean mean: 2.7781105972009175\n",
      "\tMean variance: 0.3968491686911383\n",
      "\tVariance mean: 1.1168578411397934\n",
      "\tVariance variance: 1.0989196288132441\n"
     ]
    }
   ],
   "source": [
    "print_modelling_and_estimation_results('stratify_optimal', _iters, _n, _rnorms, _Ws, _params_list)"
   ]
  },
  {
   "cell_type": "markdown",
   "metadata": {},
   "source": [
    "### Different means same vars"
   ]
  },
  {
   "cell_type": "code",
   "execution_count": 12,
   "metadata": {},
   "outputs": [
    {
     "name": "stdout",
     "output_type": "stream",
     "text": [
      "0.3×N(0, 1) + 0.5×N(10, 1) + 0.2×N(3, 1)\n",
      "Population mean: 5.657574789450342\n",
      "Population variance: 21.185506242006507\n"
     ]
    },
    {
     "data": {
      "image/png": "[encoded data removed]",
      "text/plain": [
       "<Figure size 432x288 with 1 Axes>"
      ]
     },
     "metadata": {
      "needs_background": "light"
     },
     "output_type": "display_data"
    }
   ],
   "source": [
    "_params_list = [(0, 1), (10, 1), (3, 1)]\n",
    "_rnorms = generate_rnorms(_N, _Ws, _params_list)"
   ]
  },
  {
   "cell_type": "markdown",
   "metadata": {},
   "source": [
    "##### Simple random choice"
   ]
  },
  {
   "cell_type": "code",
   "execution_count": 13,
   "metadata": {},
   "outputs": [
    {
     "name": "stdout",
     "output_type": "stream",
     "text": [
      "Choice: simple\n",
      "Modelling results\n",
      "\tMean mean: 5.6491144753384\n",
      "\tMean variance: 0.20953677048099548\n",
      "\tVariance mean: 20.95077466123089\n",
      "\tVariance variance: 1.5529204981604163\n"
     ]
    }
   ],
   "source": [
    "print_modelling_and_estimation_results('simple', _iters, _n, _rnorms, _Ws, _params_list)"
   ]
  },
  {
   "cell_type": "markdown",
   "metadata": {},
   "source": [
    "##### Stratified proportionally"
   ]
  },
  {
   "cell_type": "code",
   "execution_count": 14,
   "metadata": {},
   "outputs": [
    {
     "name": "stdout",
     "output_type": "stream",
     "text": [
      "Choice: stratify_prop\n",
      "Strat samples sizes: [30, 50, 20]\n",
      "Modelling results\n",
      "\tMean mean: 5.655709715359891\n",
      "\tMean variance: 0.011022495380651984\n",
      "\tVariance mean: 21.159187364132027\n",
      "\tVariance variance: 0.8606925509722314\n",
      "Estimation results\n",
      "\tMean mean: 5.641767033768455\n",
      "\tMean variance: 0.33934348434333733\n",
      "\tVariance mean: 21.226007858604955\n",
      "\tVariance variance: 0.877251674874991\n"
     ]
    }
   ],
   "source": [
    "print_modelling_and_estimation_results('stratify_prop', _iters, _n, _rnorms, _Ws, _params_list)"
   ]
  },
  {
   "cell_type": "markdown",
   "metadata": {},
   "source": [
    "##### Stratified optimally"
   ]
  },
  {
   "cell_type": "code",
   "execution_count": 15,
   "metadata": {},
   "outputs": [
    {
     "name": "stdout",
     "output_type": "stream",
     "text": [
      "Choice: stratify_optimal\n",
      "Strat samples sizes: [30, 50, 20]\n",
      "Modelling results\n",
      "\tMean mean: 5.6572180389485\n",
      "\tMean variance: 0.010132613834279307\n",
      "\tVariance mean: 21.192319937454673\n",
      "\tVariance variance: 0.7643820615888597\n",
      "Estimation results\n",
      "\tMean mean: 5.703583255239629\n",
      "\tMean variance: 0.3843772185842289\n",
      "\tVariance mean: 20.898299766976454\n",
      "\tVariance variance: 1.0702601861377057\n"
     ]
    }
   ],
   "source": [
    "print_modelling_and_estimation_results('stratify_optimal', _iters, _n, _rnorms, _Ws, _params_list)"
   ]
  },
  {
   "cell_type": "markdown",
   "metadata": {},
   "source": [
    "### Different means and vars"
   ]
  },
  {
   "cell_type": "code",
   "execution_count": 16,
   "metadata": {},
   "outputs": [
    {
     "name": "stdout",
     "output_type": "stream",
     "text": [
      "0.3×N(0, 0.5) + 0.5×N(10, 1) + 0.2×N(3, 0.1)\n",
      "Population mean: 5.597208990868954\n",
      "Population variance: 21.09730408310543\n"
     ]
    },
    {
     "data": {
      "image/png": "[encoded data removed]",
      "text/plain": [
       "<Figure size 432x288 with 1 Axes>"
      ]
     },
     "metadata": {
      "needs_background": "light"
     },
     "output_type": "display_data"
    }
   ],
   "source": [
    "_params_list = [(0, .5), (10, 1), (3, .1)]\n",
    "_rnorms = generate_rnorms(_N, _Ws, _params_list)"
   ]
  },
  {
   "cell_type": "markdown",
   "metadata": {},
   "source": [
    "##### Simple random choice"
   ]
  },
  {
   "cell_type": "code",
   "execution_count": 17,
   "metadata": {},
   "outputs": [
    {
     "name": "stdout",
     "output_type": "stream",
     "text": [
      "Choice: simple\n",
      "Modelling results\n",
      "\tMean mean: 5.573950704330126\n",
      "\tMean variance: 0.19708860801528158\n",
      "\tVariance mean: 20.912074259877414\n",
      "\tVariance variance: 1.292251699039136\n"
     ]
    }
   ],
   "source": [
    "print_modelling_and_estimation_results('simple', _iters, _n, _rnorms, _Ws, _params_list)"
   ]
  },
  {
   "cell_type": "markdown",
   "metadata": {},
   "source": [
    "##### Stratified proportionally"
   ]
  },
  {
   "cell_type": "code",
   "execution_count": 18,
   "metadata": {},
   "outputs": [
    {
     "name": "stdout",
     "output_type": "stream",
     "text": [
      "Choice: stratify_prop\n",
      "Strat samples sizes: [30, 50, 20]\n",
      "Modelling results\n",
      "\tMean mean: 5.597477163625194\n",
      "\tMean variance: 0.00631679420197981\n",
      "\tVariance mean: 21.08385593721991\n",
      "\tVariance variance: 0.5720388374166575\n",
      "Estimation results\n",
      "\tMean mean: 5.468045977556766\n",
      "\tMean variance: 0.2713242425307275\n",
      "\tVariance mean: 21.344610964007515\n",
      "\tVariance variance: 0.5833457622105517\n"
     ]
    }
   ],
   "source": [
    "print_modelling_and_estimation_results('stratify_prop', _iters, _n, _rnorms, _Ws, _params_list)"
   ]
  },
  {
   "cell_type": "markdown",
   "metadata": {},
   "source": [
    "##### Stratified optimally"
   ]
  },
  {
   "cell_type": "code",
   "execution_count": 19,
   "metadata": {},
   "outputs": [
    {
     "name": "stdout",
     "output_type": "stream",
     "text": [
      "Choice: stratify_optimal\n",
      "Strat samples sizes: [27, 64, 8]\n",
      "Modelling results\n",
      "\tMean mean: 6.708244718378912\n",
      "\tMean variance: 0.007639275130987063\n",
      "\tVariance mean: 21.21558735550567\n",
      "\tVariance variance: 0.46635493720102544\n",
      "Estimation results\n",
      "\tMean mean: 5.522233983916407\n",
      "\tMean variance: 0.24450216580357026\n",
      "\tVariance mean: 20.843560908020983\n",
      "\tVariance variance: 0.5151320024166838\n"
     ]
    }
   ],
   "source": [
    "print_modelling_and_estimation_results('stratify_optimal', _iters, _n, _rnorms, _Ws, _params_list)"
   ]
  },
  {
   "cell_type": "markdown",
   "metadata": {},
   "source": [
    "### Conclusion"
   ]
  },
  {
   "cell_type": "markdown",
   "metadata": {},
   "source": [
    "Based on modelling it is possible to conclude that stratified sampling indeed generally produces more representative results than simple random sampling does."
   ]
  },
  {
   "cell_type": "code",
   "execution_count": null,
   "metadata": {},
   "outputs": [],
   "source": []
  }
 ],
 "metadata": {
  "kernelspec": {
   "display_name": "Python 3",
   "language": "python",
   "name": "python3"
  },
  "language_info": {
   "codemirror_mode": {
    "name": "ipython",
    "version": 3
   },
   "file_extension": ".py",
   "mimetype": "text/x-python",
   "name": "python",
   "nbconvert_exporter": "python",
   "pygments_lexer": "ipython3",
   "version": "3.7.3"
  }
 },
 "nbformat": 4,
 "nbformat_minor": 4
}
