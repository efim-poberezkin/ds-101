{
 "cells": [
  {
   "cell_type": "code",
   "execution_count": 1,
   "metadata": {},
   "outputs": [],
   "source": [
    "from math import sqrt\n",
    "\n",
    "import numpy as np\n",
    "import seaborn as sns\n",
    "\n",
    "sns.set_style('whitegrid')"
   ]
  },
  {
   "cell_type": "code",
   "execution_count": 2,
   "metadata": {},
   "outputs": [],
   "source": [
    "def generate_rnorms(N, Ws, params_list):\n",
    "    rnorms = [np.random.normal(params[0], params[1], round(N*w)) for params, w in zip(params_list, Ws)]\n",
    "    mix = np.concatenate(rnorms)\n",
    "    mix_strs = [f'{w}×N({params[0]}, {params[1]})' for params, w in zip(params_list, Ws)]\n",
    "    print (' + '.join(mix_strs))\n",
    "    _ = sns.kdeplot(mix, bw=0.5)\n",
    "    return rnorms"
   ]
  },
  {
   "cell_type": "code",
   "execution_count": 3,
   "metadata": {},
   "outputs": [],
   "source": [
    "def print_modelling_and_estimation_results(choice, iters, n, rnorms, Ws, params_list):\n",
    "    print(f'Choice: {choice}')\n",
    "    if choice.startswith('stratify'):\n",
    "        strat_sample_sizes = get_strat_sample_sizes(n, Ws, params_list, strategy=choice.rsplit('_', 1)[1])\n",
    "        n = strat_sample_sizes\n",
    "        print(f'Strat samples sizes: {n}')\n",
    "    \n",
    "    print('Modelling results')\n",
    "    modelling_stats = model_point_estimates(choice, iters, n, rnorms)\n",
    "    print_stats(modelling_stats)\n",
    "    \n",
    "    if choice.startswith('stratify'):\n",
    "        print('Estimation results')\n",
    "        estimation_stats = estimate_point_estimates(rnorms, strat_sample_sizes, Ws)\n",
    "        print_stats(estimation_stats)\n",
    "\n",
    "def print_stats(stats):\n",
    "    print(f'\\tMean mean: {stats[0]}')\n",
    "    print(f'\\tMean variance: {stats[1]}')\n",
    "    print(f'\\tVariance mean: {stats[2]}')\n",
    "    print(f'\\tVariance variance: {stats[3]}')"
   ]
  },
  {
   "cell_type": "code",
   "execution_count": 4,
   "metadata": {},
   "outputs": [],
   "source": [
    "def get_strat_sample_sizes(n, Ws, params_list, strategy):\n",
    "    if strategy == 'prop':\n",
    "        nks = [int(n * w) for w in Ws]\n",
    "    elif strategy == 'optimal':\n",
    "        np_Ws = np.array(Ws)\n",
    "        np_sigmas = np.array([sqrt(sigma_square) for _, sigma_square in params_list])\n",
    "        props = np.divide(np.multiply(np_Ws, np_sigmas), np.dot(np_Ws, np_sigmas))\n",
    "        nks = [int(round(n * prop)) for prop in props]\n",
    "    return nks"
   ]
  },
  {
   "cell_type": "code",
   "execution_count": 5,
   "metadata": {},
   "outputs": [],
   "source": [
    "def model_point_estimates(choice, iters, n, rnorms):\n",
    "    \"\"\"Models point estimates by repeated sampling.\n",
    "    \n",
    "    If `choice` is stratification based `n` is expected to be list of strat sample sizes. \n",
    "    \"\"\"\n",
    "    means = []\n",
    "    variances = []\n",
    "    for i in range(iters):    \n",
    "        if choice == 'simple':\n",
    "            mix = np.concatenate(rnorms)\n",
    "            sample = np.random.choice(mix, n)\n",
    "            means.append(np.mean(sample))\n",
    "            variances.append(np.var(sample))\n",
    "        elif choice.startswith('stratify'):\n",
    "            strat_samples = [np.random.choice(rnorm, nk) for rnorm, nk in zip(rnorms, n)]\n",
    "            strat_mix = np.concatenate(strat_samples)\n",
    "            means.append(np.mean(strat_mix))\n",
    "            variances.append(np.var(strat_mix))\n",
    "    return np.mean(means), np.var(means), np.mean(variances), np.var(variances)"
   ]
  },
  {
   "cell_type": "code",
   "execution_count": 6,
   "metadata": {},
   "outputs": [],
   "source": [
    "def estimate_point_estimates(rnorms, strat_sample_sizes, Ws):\n",
    "    strat_samples = [np.random.choice(rnorm, nk) for rnorm, nk in zip(rnorms, strat_sample_sizes)]\n",
    "    strat_means = np.array([np.mean(sample) for sample in strat_samples])\n",
    "    strat_vars = np.array([np.var(sample) for sample in strat_samples])\n",
    "    w = np.array(Ws)\n",
    "    strats_number = len(strat_sample_sizes)\n",
    "    \n",
    "    mean_mean = np.dot(w, np.full(strats_number, np.mean(strat_means)))\n",
    "    mean_var = np.dot(np.square(w), np.full(strats_number, np.var(strat_means)))\n",
    "    w_dot_mean_minus_mean = np.subtract(np.dot(w, strat_means), strat_means)\n",
    "    var_mean = np.add(np.dot(w, np.full(strats_number, np.mean(strat_vars))), np.dot(w, np.full(strats_number, np.square(np.mean(w_dot_mean_minus_mean)))))\n",
    "    var_var = np.add(np.dot(np.square(w), np.full(strats_number, np.var(strat_vars))), np.var(np.dot(w, np.square(w_dot_mean_minus_mean))))\n",
    "    \n",
    "    return mean_mean, mean_var, var_mean, var_var"
   ]
  },
  {
   "cell_type": "code",
   "execution_count": 7,
   "metadata": {},
   "outputs": [],
   "source": [
    "_iters = 1000\n",
    "_N = 500\n",
    "_n = 40\n",
    "_Ws = [0.3, 0.5, 0.2]"
   ]
  },
  {
   "cell_type": "markdown",
   "metadata": {},
   "source": [
    "### Same means and vars"
   ]
  },
  {
   "cell_type": "code",
   "execution_count": 8,
   "metadata": {},
   "outputs": [
    {
     "name": "stdout",
     "output_type": "stream",
     "text": [
      "0.3×N(3, 1) + 0.5×N(3, 1) + 0.2×N(3, 1)\n"
     ]
    },
    {
     "data": {
      "image/png": "[encoded data removed]",
      "text/plain": [
       "<Figure size 432x288 with 1 Axes>"
      ]
     },
     "metadata": {
      "needs_background": "light"
     },
     "output_type": "display_data"
    }
   ],
   "source": [
    "_params_list = [(3, 1), (3, 1), (3, 1)]\n",
    "_rnorms = generate_rnorms(_N, _Ws, _params_list)"
   ]
  },
  {
   "cell_type": "markdown",
   "metadata": {},
   "source": [
    "##### Simple random choice"
   ]
  },
  {
   "cell_type": "code",
   "execution_count": 9,
   "metadata": {},
   "outputs": [
    {
     "name": "stdout",
     "output_type": "stream",
     "text": [
      "Choice: simple\n",
      "Modelling results\n",
      "\tMean mean: 3.020091353472777\n",
      "\tMean variance: 0.025920793196085826\n",
      "\tVariance mean: 1.0492679521815127\n",
      "\tVariance variance: 0.051417462421896404\n"
     ]
    }
   ],
   "source": [
    "print_modelling_and_estimation_results('simple', _iters, _n, _rnorms, _Ws, _params_list)"
   ]
  },
  {
   "cell_type": "markdown",
   "metadata": {},
   "source": [
    "##### Stratified proportionally"
   ]
  },
  {
   "cell_type": "code",
   "execution_count": 10,
   "metadata": {},
   "outputs": [
    {
     "name": "stdout",
     "output_type": "stream",
     "text": [
      "Choice: stratify_prop\n",
      "Strat samples sizes: [12, 20, 8]\n",
      "Modelling results\n",
      "\tMean mean: 3.0239737875064656\n",
      "\tMean variance: 0.02831026264408964\n",
      "\tVariance mean: 1.0373850651336312\n",
      "\tVariance variance: 0.05545618630076314\n",
      "Estimation results\n",
      "\tMean mean: 2.9315692843292154\n",
      "\tMean variance: 0.011817028339294381\n",
      "\tVariance mean: 0.9259126929864123\n",
      "\tVariance variance: 0.004628296729102169\n"
     ]
    }
   ],
   "source": [
    "print_modelling_and_estimation_results('stratify_prop', _iters, _n, _rnorms, _Ws, _params_list)"
   ]
  },
  {
   "cell_type": "markdown",
   "metadata": {},
   "source": [
    "##### Stratified optimally"
   ]
  },
  {
   "cell_type": "code",
   "execution_count": 11,
   "metadata": {},
   "outputs": [
    {
     "name": "stdout",
     "output_type": "stream",
     "text": [
      "Choice: stratify_optimal\n",
      "Strat samples sizes: [12, 20, 8]\n",
      "Modelling results\n",
      "\tMean mean: 3.0171923738486757\n",
      "\tMean variance: 0.025337776714294456\n",
      "\tVariance mean: 1.0341177126685877\n",
      "\tVariance variance: 0.051437821156900196\n",
      "Estimation results\n",
      "\tMean mean: 2.958594490782146\n",
      "\tMean variance: 0.013482074569907564\n",
      "\tVariance mean: 0.6484536100754826\n",
      "\tVariance variance: 0.0021557168217508603\n"
     ]
    }
   ],
   "source": [
    "print_modelling_and_estimation_results('stratify_optimal', _iters, _n, _rnorms, _Ws, _params_list)"
   ]
  },
  {
   "cell_type": "markdown",
   "metadata": {},
   "source": [
    "### Different means same vars"
   ]
  },
  {
   "cell_type": "code",
   "execution_count": 12,
   "metadata": {},
   "outputs": [
    {
     "name": "stdout",
     "output_type": "stream",
     "text": [
      "0.3×N(0, 1) + 0.5×N(10, 1) + 0.2×N(3, 1)\n"
     ]
    },
    {
     "data": {
      "image/png": "[encoded data removed]",
      "text/plain": [
       "<Figure size 432x288 with 1 Axes>"
      ]
     },
     "metadata": {
      "needs_background": "light"
     },
     "output_type": "display_data"
    }
   ],
   "source": [
    "_params_list = [(0, 1), (10, 1), (3, 1)]\n",
    "_rnorms = generate_rnorms(_N, _Ws, _params_list)"
   ]
  },
  {
   "cell_type": "markdown",
   "metadata": {},
   "source": [
    "##### Simple random choice"
   ]
  },
  {
   "cell_type": "code",
   "execution_count": 13,
   "metadata": {},
   "outputs": [
    {
     "name": "stdout",
     "output_type": "stream",
     "text": [
      "Choice: simple\n",
      "Modelling results\n",
      "\tMean mean: 5.538322193440561\n",
      "\tMean variance: 0.5710062857918579\n",
      "\tVariance mean: 21.40899613205127\n",
      "\tVariance variance: 4.624178523127801\n"
     ]
    }
   ],
   "source": [
    "print_modelling_and_estimation_results('simple', _iters, _n, _rnorms, _Ws, _params_list)"
   ]
  },
  {
   "cell_type": "markdown",
   "metadata": {},
   "source": [
    "##### Stratified proportionally"
   ]
  },
  {
   "cell_type": "code",
   "execution_count": 14,
   "metadata": {},
   "outputs": [
    {
     "name": "stdout",
     "output_type": "stream",
     "text": [
      "Choice: stratify_prop\n",
      "Strat samples sizes: [12, 20, 8]\n",
      "Modelling results\n",
      "\tMean mean: 5.597859866841256\n",
      "\tMean variance: 0.02291275137636228\n",
      "\tVariance mean: 21.91009636427045\n",
      "\tVariance variance: 1.9892625847388958\n",
      "Estimation results\n",
      "\tMean mean: 4.229290646314622\n",
      "\tMean variance: 6.8363806931249576\n",
      "\tVariance mean: 2.584154071473655\n",
      "\tVariance variance: 0.011777845372267707\n"
     ]
    }
   ],
   "source": [
    "print_modelling_and_estimation_results('stratify_prop', _iters, _n, _rnorms, _Ws, _params_list)"
   ]
  },
  {
   "cell_type": "markdown",
   "metadata": {},
   "source": [
    "##### Stratified optimally"
   ]
  },
  {
   "cell_type": "code",
   "execution_count": 15,
   "metadata": {},
   "outputs": [
    {
     "name": "stdout",
     "output_type": "stream",
     "text": [
      "Choice: stratify_optimal\n",
      "Strat samples sizes: [12, 20, 8]\n",
      "Modelling results\n",
      "\tMean mean: 5.5903155098404005\n",
      "\tMean variance: 0.023550104899454232\n",
      "\tVariance mean: 21.916987842541698\n",
      "\tVariance variance: 2.088592127912947\n",
      "Estimation results\n",
      "\tMean mean: 4.400111676726415\n",
      "\tMean variance: 6.863536352513318\n",
      "\tVariance mean: 2.185763924254256\n",
      "\tVariance variance: 0.005984789190955757\n"
     ]
    }
   ],
   "source": [
    "print_modelling_and_estimation_results('stratify_optimal', _iters, _n, _rnorms, _Ws, _params_list)"
   ]
  },
  {
   "cell_type": "markdown",
   "metadata": {},
   "source": [
    "### Different means and vars"
   ]
  },
  {
   "cell_type": "code",
   "execution_count": 16,
   "metadata": {},
   "outputs": [
    {
     "name": "stdout",
     "output_type": "stream",
     "text": [
      "0.3×N(0, 0.5) + 0.5×N(10, 1) + 0.2×N(3, 0.1)\n"
     ]
    },
    {
     "data": {
      "image/png": "[encoded data removed]",
      "text/plain": [
       "<Figure size 432x288 with 1 Axes>"
      ]
     },
     "metadata": {
      "needs_background": "light"
     },
     "output_type": "display_data"
    }
   ],
   "source": [
    "_params_list = [(0, .5), (10, 1), (3, .1)]\n",
    "_rnorms = generate_rnorms(_N, _Ws, _params_list)"
   ]
  },
  {
   "cell_type": "markdown",
   "metadata": {},
   "source": [
    "##### Simple random choice"
   ]
  },
  {
   "cell_type": "code",
   "execution_count": 17,
   "metadata": {},
   "outputs": [
    {
     "name": "stdout",
     "output_type": "stream",
     "text": [
      "Choice: simple\n",
      "Modelling results\n",
      "\tMean mean: 5.579653090849413\n",
      "\tMean variance: 0.4939765559159601\n",
      "\tVariance mean: 20.730298815424533\n",
      "\tVariance variance: 3.435661452665917\n"
     ]
    }
   ],
   "source": [
    "print_modelling_and_estimation_results('simple', _iters, _n, _rnorms, _Ws, _params_list)"
   ]
  },
  {
   "cell_type": "markdown",
   "metadata": {},
   "source": [
    "##### Stratified proportionally"
   ]
  },
  {
   "cell_type": "code",
   "execution_count": 18,
   "metadata": {},
   "outputs": [
    {
     "name": "stdout",
     "output_type": "stream",
     "text": [
      "Choice: stratify_prop\n",
      "Strat samples sizes: [12, 20, 8]\n",
      "Modelling results\n",
      "\tMean mean: 5.626817059177997\n",
      "\tMean variance: 0.013725920182129403\n",
      "\tVariance mean: 21.218855178286628\n",
      "\tVariance variance: 1.1378511378771032\n",
      "Estimation results\n",
      "\tMean mean: 4.332551893925664\n",
      "\tMean variance: 6.579145038793356\n",
      "\tVariance mean: 1.7655197772891396\n",
      "\tVariance variance: 0.008148126771202562\n"
     ]
    }
   ],
   "source": [
    "print_modelling_and_estimation_results('stratify_prop', _iters, _n, _rnorms, _Ws, _params_list)"
   ]
  },
  {
   "cell_type": "markdown",
   "metadata": {},
   "source": [
    "##### Stratified optimally"
   ]
  },
  {
   "cell_type": "code",
   "execution_count": 19,
   "metadata": {},
   "outputs": [
    {
     "name": "stdout",
     "output_type": "stream",
     "text": [
      "Choice: stratify_optimal\n",
      "Strat samples sizes: [11, 26, 3]\n",
      "Modelling results\n",
      "\tMean mean: 6.7599778649656885\n",
      "\tMean variance: 0.016969270365966543\n",
      "\tVariance mean: 21.367091099102677\n",
      "\tVariance variance: 1.0558705253926268\n",
      "Estimation results\n",
      "\tMean mean: 4.479792562263252\n",
      "\tMean variance: 6.766570070014131\n",
      "\tVariance mean: 2.0135573204589337\n",
      "\tVariance variance: 0.05676985851368808\n"
     ]
    }
   ],
   "source": [
    "print_modelling_and_estimation_results('stratify_optimal', _iters, _n, _rnorms, _Ws, _params_list)"
   ]
  },
  {
   "cell_type": "code",
   "execution_count": null,
   "metadata": {},
   "outputs": [],
   "source": []
  }
 ],
 "metadata": {
  "kernelspec": {
   "display_name": "Python 3",
   "language": "python",
   "name": "python3"
  },
  "language_info": {
   "codemirror_mode": {
    "name": "ipython",
    "version": 3
   },
   "file_extension": ".py",
   "mimetype": "text/x-python",
   "name": "python",
   "nbconvert_exporter": "python",
   "pygments_lexer": "ipython3",
   "version": "3.7.3"
  }
 },
 "nbformat": 4,
 "nbformat_minor": 4
}
