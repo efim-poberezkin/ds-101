{
 "cells": [
  {
   "cell_type": "code",
   "execution_count": 1,
   "metadata": {},
   "outputs": [],
   "source": [
    "from math import sqrt\n",
    "\n",
    "import numpy as np\n",
    "import seaborn as sns\n",
    "\n",
    "sns.set_palette(\"muted\")\n",
    "sns.set_style(\"whitegrid\")"
   ]
  },
  {
   "cell_type": "code",
   "execution_count": 2,
   "metadata": {},
   "outputs": [],
   "source": [
    "def generate_rnorms(N, Ws, params_list):\n",
    "    rnorms = [\n",
    "        np.random.normal(params[0], params[1], round(N * w))\n",
    "        for params, w in zip(params_list, Ws)\n",
    "    ]\n",
    "    mix = np.concatenate(rnorms)\n",
    "    mix_strs = [\n",
    "        f\"{w}×N({params[0]}, {params[1]})\" for params, w in zip(params_list, Ws)\n",
    "    ]\n",
    "    print(\" + \".join(mix_strs))\n",
    "    print(f\"Population mean: {np.mean(mix)}\")\n",
    "    print(f\"Population variance: {np.var(mix)}\")\n",
    "    _ = sns.kdeplot(mix, bw=0.5)\n",
    "    return rnorms"
   ]
  },
  {
   "cell_type": "code",
   "execution_count": 3,
   "metadata": {},
   "outputs": [],
   "source": [
    "def print_modelling_and_estimation_results(choice, iters, n, rnorms, Ws, params_list):\n",
    "    print(f\"Choice: {choice}\")\n",
    "    if choice.startswith(\"stratify\"):\n",
    "        strat_sample_sizes = get_strat_sample_sizes(\n",
    "            n, Ws, params_list, strategy=choice.rsplit(\"_\", 1)[1]\n",
    "        )\n",
    "        n = strat_sample_sizes\n",
    "        print(f\"Strat samples sizes: {n}\")\n",
    "\n",
    "    print(\"Modelling results\")\n",
    "    modelling_stats = model_point_estimates(choice, iters, n, rnorms)\n",
    "    print_stats(modelling_stats)\n",
    "\n",
    "    if choice.startswith(\"stratify\"):\n",
    "        print(\"Estimation results\")\n",
    "        estimation_stats = estimate_point_estimates(rnorms, strat_sample_sizes, Ws)\n",
    "        print_stats(estimation_stats)\n",
    "\n",
    "\n",
    "def print_stats(stats):\n",
    "    print(f\"\\tMean mean: {stats[0]}\")\n",
    "    print(f\"\\tMean variance: {stats[1]}\")\n",
    "    print(f\"\\tVariance mean: {stats[2]}\")\n",
    "    print(f\"\\tVariance variance: {stats[3]}\")"
   ]
  },
  {
   "cell_type": "code",
   "execution_count": 4,
   "metadata": {},
   "outputs": [],
   "source": [
    "def get_strat_sample_sizes(n, Ws, params_list, strategy):\n",
    "    if strategy == \"prop\":\n",
    "        nks = [int(n * w) for w in Ws]\n",
    "    elif strategy == \"optimal\":\n",
    "        np_Ws = np.array(Ws)\n",
    "        np_sigmas = np.array([sqrt(sigma_square) for _, sigma_square in params_list])\n",
    "        props = np.divide(np.multiply(np_Ws, np_sigmas), np.dot(np_Ws, np_sigmas))\n",
    "        nks = [int(round(n * prop)) for prop in props]\n",
    "    return nks"
   ]
  },
  {
   "cell_type": "code",
   "execution_count": 5,
   "metadata": {},
   "outputs": [],
   "source": [
    "def model_point_estimates(choice, iters, n, rnorms):\n",
    "    \"\"\"Models point estimates by repeated sampling.\n",
    "    \n",
    "    If `choice` is stratification based `n` is expected to be list of strat sample sizes. \n",
    "    \"\"\"\n",
    "    means = []\n",
    "    variances = []\n",
    "    for i in range(iters):\n",
    "        if choice == \"simple\":\n",
    "            mix = np.concatenate(rnorms)\n",
    "            sample = np.random.choice(mix, n)\n",
    "            means.append(np.mean(sample))\n",
    "            variances.append(np.var(sample))\n",
    "        elif choice.startswith(\"stratify\"):\n",
    "            strat_samples = [\n",
    "                np.random.choice(rnorm, nk) for rnorm, nk in zip(rnorms, n)\n",
    "            ]\n",
    "            strat_mix = np.concatenate(strat_samples)\n",
    "            means.append(np.mean(strat_mix))\n",
    "            variances.append(np.var(strat_mix))\n",
    "    return np.mean(means), np.var(means), np.mean(variances), np.var(variances)"
   ]
  },
  {
   "cell_type": "code",
   "execution_count": 6,
   "metadata": {},
   "outputs": [],
   "source": [
    "def estimate_point_estimates(rnorms, strat_sample_sizes, Ws):\n",
    "    strat_samples = [\n",
    "        np.random.choice(rnorm, nk) for rnorm, nk in zip(rnorms, strat_sample_sizes)\n",
    "    ]\n",
    "    strat_means = np.array([np.mean(sample) for sample in strat_samples])\n",
    "    strat_vars = np.array([np.var(sample) for sample in strat_samples])\n",
    "    w = np.array(Ws)\n",
    "    strats_number = len(strat_sample_sizes)\n",
    "\n",
    "    mean_mean = np.dot(w, strat_means)\n",
    "    mean_var = np.dot(np.square(w), strat_vars)\n",
    "    w_dot_mean_minus_mean = np.subtract(np.dot(w, strat_means), strat_means)\n",
    "    var_mean = np.add(\n",
    "        np.dot(w, strat_vars), np.dot(w, np.square(w_dot_mean_minus_mean))\n",
    "    )\n",
    "    var_var = np.add(\n",
    "        np.dot(w, strat_vars), np.var(np.dot(w, np.square(w_dot_mean_minus_mean)))\n",
    "    )\n",
    "\n",
    "    return mean_mean, mean_var, var_mean, var_var"
   ]
  },
  {
   "cell_type": "code",
   "execution_count": 7,
   "metadata": {},
   "outputs": [],
   "source": [
    "_iters = 1000\n",
    "_N = 500\n",
    "_n = 100\n",
    "_Ws = [0.3, 0.5, 0.2]"
   ]
  },
  {
   "cell_type": "markdown",
   "metadata": {},
   "source": [
    "### Same means and vars"
   ]
  },
  {
   "cell_type": "code",
   "execution_count": 8,
   "metadata": {},
   "outputs": [
    {
     "name": "stdout",
     "output_type": "stream",
     "text": [
      "0.3×N(3, 1) + 0.5×N(3, 1) + 0.2×N(3, 1)\n",
      "Population mean: 2.994043866310283\n",
      "Population variance: 1.025325890686447\n"
     ]
    },
    {
     "data": {
      "image/png": "[encoded data removed]",
      "text/plain": [
       "<Figure size 432x288 with 1 Axes>"
      ]
     },
     "metadata": {
      "needs_background": "light"
     },
     "output_type": "display_data"
    }
   ],
   "source": [
    "_params_list = [(3, 1), (3, 1), (3, 1)]\n",
    "_rnorms = generate_rnorms(_N, _Ws, _params_list)"
   ]
  },
  {
   "cell_type": "markdown",
   "metadata": {},
   "source": [
    "##### Simple random choice"
   ]
  },
  {
   "cell_type": "code",
   "execution_count": 9,
   "metadata": {},
   "outputs": [
    {
     "name": "stdout",
     "output_type": "stream",
     "text": [
      "Choice: simple\n",
      "Modelling results\n",
      "\tMean mean: 2.9974624414958297\n",
      "\tMean variance: 0.01016801895191842\n",
      "\tVariance mean: 1.00708380944417\n",
      "\tVariance variance: 0.020628168734660356\n"
     ]
    }
   ],
   "source": [
    "print_modelling_and_estimation_results(\"simple\", _iters, _n, _rnorms, _Ws, _params_list)"
   ]
  },
  {
   "cell_type": "markdown",
   "metadata": {},
   "source": [
    "##### Stratified proportionally"
   ]
  },
  {
   "cell_type": "code",
   "execution_count": 10,
   "metadata": {},
   "outputs": [
    {
     "name": "stdout",
     "output_type": "stream",
     "text": [
      "Choice: stratify_prop\n",
      "Strat samples sizes: [30, 50, 20]\n",
      "Modelling results\n",
      "\tMean mean: 2.9945595791693553\n",
      "\tMean variance: 0.010358111815040807\n",
      "\tVariance mean: 1.0162501558159196\n",
      "\tVariance variance: 0.024508727977139717\n",
      "Estimation results\n",
      "\tMean mean: 2.9837305780341485\n",
      "\tMean variance: 0.3311772337097507\n",
      "\tVariance mean: 0.9578573520163899\n",
      "\tVariance variance: 0.8776545474637677\n"
     ]
    }
   ],
   "source": [
    "print_modelling_and_estimation_results(\n",
    "    \"stratify_prop\", _iters, _n, _rnorms, _Ws, _params_list\n",
    ")"
   ]
  },
  {
   "cell_type": "markdown",
   "metadata": {},
   "source": [
    "##### Stratified optimally"
   ]
  },
  {
   "cell_type": "code",
   "execution_count": 11,
   "metadata": {},
   "outputs": [
    {
     "name": "stdout",
     "output_type": "stream",
     "text": [
      "Choice: stratify_optimal\n",
      "Strat samples sizes: [30, 50, 20]\n",
      "Modelling results\n",
      "\tMean mean: 2.990245972687938\n",
      "\tMean variance: 0.00967018391461285\n",
      "\tVariance mean: 1.0094804739610164\n",
      "\tVariance variance: 0.022656129220833484\n",
      "Estimation results\n",
      "\tMean mean: 2.8176672163888847\n",
      "\tMean variance: 0.32690274400375074\n",
      "\tVariance mean: 0.9444848622469834\n",
      "\tVariance variance: 0.9240903088668997\n"
     ]
    }
   ],
   "source": [
    "print_modelling_and_estimation_results(\n",
    "    \"stratify_optimal\", _iters, _n, _rnorms, _Ws, _params_list\n",
    ")"
   ]
  },
  {
   "cell_type": "markdown",
   "metadata": {},
   "source": [
    "### Different means same vars"
   ]
  },
  {
   "cell_type": "code",
   "execution_count": 12,
   "metadata": {},
   "outputs": [
    {
     "name": "stdout",
     "output_type": "stream",
     "text": [
      "0.3×N(0, 1) + 0.5×N(10, 1) + 0.2×N(3, 1)\n",
      "Population mean: 5.636435385661092\n",
      "Population variance: 21.688708638894052\n"
     ]
    },
    {
     "data": {
      "image/png": "[encoded data removed]",
      "text/plain": [
       "<Figure size 432x288 with 1 Axes>"
      ]
     },
     "metadata": {
      "needs_background": "light"
     },
     "output_type": "display_data"
    }
   ],
   "source": [
    "_params_list = [(0, 1), (10, 1), (3, 1)]\n",
    "_rnorms = generate_rnorms(_N, _Ws, _params_list)"
   ]
  },
  {
   "cell_type": "markdown",
   "metadata": {},
   "source": [
    "##### Simple random choice"
   ]
  },
  {
   "cell_type": "code",
   "execution_count": 13,
   "metadata": {},
   "outputs": [
    {
     "name": "stdout",
     "output_type": "stream",
     "text": [
      "Choice: simple\n",
      "Modelling results\n",
      "\tMean mean: 5.638848441398578\n",
      "\tMean variance: 0.2083034067422292\n",
      "\tVariance mean: 21.424961624505244\n",
      "\tVariance variance: 1.7191514272888084\n"
     ]
    }
   ],
   "source": [
    "print_modelling_and_estimation_results(\"simple\", _iters, _n, _rnorms, _Ws, _params_list)"
   ]
  },
  {
   "cell_type": "markdown",
   "metadata": {},
   "source": [
    "##### Stratified proportionally"
   ]
  },
  {
   "cell_type": "code",
   "execution_count": 14,
   "metadata": {},
   "outputs": [
    {
     "name": "stdout",
     "output_type": "stream",
     "text": [
      "Choice: stratify_prop\n",
      "Strat samples sizes: [30, 50, 20]\n",
      "Modelling results\n",
      "\tMean mean: 5.638283429042947\n",
      "\tMean variance: 0.010467296174651341\n",
      "\tVariance mean: 21.65126799578952\n",
      "\tVariance variance: 0.8744064358367152\n",
      "Estimation results\n",
      "\tMean mean: 5.558255561796253\n",
      "\tMean variance: 0.43144266647826435\n",
      "\tVariance mean: 21.497334534468443\n",
      "\tVariance variance: 1.1254423843095929\n"
     ]
    }
   ],
   "source": [
    "print_modelling_and_estimation_results(\n",
    "    \"stratify_prop\", _iters, _n, _rnorms, _Ws, _params_list\n",
    ")"
   ]
  },
  {
   "cell_type": "markdown",
   "metadata": {},
   "source": [
    "##### Stratified optimally"
   ]
  },
  {
   "cell_type": "code",
   "execution_count": 15,
   "metadata": {},
   "outputs": [
    {
     "name": "stdout",
     "output_type": "stream",
     "text": [
      "Choice: stratify_optimal\n",
      "Strat samples sizes: [30, 50, 20]\n",
      "Modelling results\n",
      "\tMean mean: 5.638644385760741\n",
      "\tMean variance: 0.00991000078176035\n",
      "\tVariance mean: 21.659525678280392\n",
      "\tVariance variance: 0.8961177194219522\n",
      "Estimation results\n",
      "\tMean mean: 5.7365237421189175\n",
      "\tMean variance: 0.3885773229571453\n",
      "\tVariance mean: 20.174524807561117\n",
      "\tVariance variance: 0.9884918071484071\n"
     ]
    }
   ],
   "source": [
    "print_modelling_and_estimation_results(\n",
    "    \"stratify_optimal\", _iters, _n, _rnorms, _Ws, _params_list\n",
    ")"
   ]
  },
  {
   "cell_type": "markdown",
   "metadata": {},
   "source": [
    "### Different means and vars"
   ]
  },
  {
   "cell_type": "code",
   "execution_count": 16,
   "metadata": {},
   "outputs": [
    {
     "name": "stdout",
     "output_type": "stream",
     "text": [
      "0.3×N(0, 0.5) + 0.5×N(10, 1) + 0.2×N(3, 0.1)\n",
      "Population mean: 5.635843307433342\n",
      "Population variance: 21.135531676811652\n"
     ]
    },
    {
     "data": {
      "image/png": "[encoded data removed]",
      "text/plain": [
       "<Figure size 432x288 with 1 Axes>"
      ]
     },
     "metadata": {
      "needs_background": "light"
     },
     "output_type": "display_data"
    }
   ],
   "source": [
    "_params_list = [(0, 0.5), (10, 1), (3, 0.1)]\n",
    "_rnorms = generate_rnorms(_N, _Ws, _params_list)"
   ]
  },
  {
   "cell_type": "markdown",
   "metadata": {},
   "source": [
    "##### Simple random choice"
   ]
  },
  {
   "cell_type": "code",
   "execution_count": 17,
   "metadata": {},
   "outputs": [
    {
     "name": "stdout",
     "output_type": "stream",
     "text": [
      "Choice: simple\n",
      "Modelling results\n",
      "\tMean mean: 5.644854493082079\n",
      "\tMean variance: 0.21676278288560552\n",
      "\tVariance mean: 20.881122917493077\n",
      "\tVariance variance: 1.3433764932103895\n"
     ]
    }
   ],
   "source": [
    "print_modelling_and_estimation_results(\"simple\", _iters, _n, _rnorms, _Ws, _params_list)"
   ]
  },
  {
   "cell_type": "markdown",
   "metadata": {},
   "source": [
    "##### Stratified proportionally"
   ]
  },
  {
   "cell_type": "code",
   "execution_count": 18,
   "metadata": {},
   "outputs": [
    {
     "name": "stdout",
     "output_type": "stream",
     "text": [
      "Choice: stratify_prop\n",
      "Strat samples sizes: [30, 50, 20]\n",
      "Modelling results\n",
      "\tMean mean: 5.634827500984417\n",
      "\tMean variance: 0.006345142949768257\n",
      "\tVariance mean: 21.15695036337062\n",
      "\tVariance variance: 0.5110948425135144\n",
      "Estimation results\n",
      "\tMean mean: 5.555748204161887\n",
      "\tMean variance: 0.4046854916316898\n",
      "\tVariance mean: 20.96842398314984\n",
      "\tVariance variance: 0.8335256988192796\n"
     ]
    }
   ],
   "source": [
    "print_modelling_and_estimation_results(\n",
    "    \"stratify_prop\", _iters, _n, _rnorms, _Ws, _params_list\n",
    ")"
   ]
  },
  {
   "cell_type": "markdown",
   "metadata": {},
   "source": [
    "##### Stratified optimally"
   ]
  },
  {
   "cell_type": "code",
   "execution_count": 19,
   "metadata": {},
   "outputs": [
    {
     "name": "stdout",
     "output_type": "stream",
     "text": [
      "Choice: stratify_optimal\n",
      "Strat samples sizes: [27, 64, 8]\n",
      "Modelling results\n",
      "\tMean mean: 6.750406925274314\n",
      "\tMean variance: 0.008491481928519519\n",
      "\tVariance mean: 21.204708524875997\n",
      "\tVariance variance: 0.47242701783702623\n",
      "Estimation results\n",
      "\tMean mean: 5.516604455842995\n",
      "\tMean variance: 0.2847211657716424\n",
      "\tVariance mean: 20.402195676092386\n",
      "\tVariance variance: 0.5859709683196056\n"
     ]
    }
   ],
   "source": [
    "print_modelling_and_estimation_results(\n",
    "    \"stratify_optimal\", _iters, _n, _rnorms, _Ws, _params_list\n",
    ")"
   ]
  },
  {
   "cell_type": "markdown",
   "metadata": {},
   "source": [
    "### Conclusion"
   ]
  },
  {
   "cell_type": "markdown",
   "metadata": {},
   "source": [
    "Based on modelling it is possible to conclude that stratified sampling indeed generally produces more representative results than simple random sampling does."
   ]
  }
 ],
 "metadata": {
  "kernelspec": {
   "display_name": "ds-101",
   "language": "python",
   "name": "ds-101"
  },
  "language_info": {
   "codemirror_mode": {
    "name": "ipython",
    "version": 3
   },
   "file_extension": ".py",
   "mimetype": "text/x-python",
   "name": "python",
   "nbconvert_exporter": "python",
   "pygments_lexer": "ipython3",
   "version": "3.7.4"
  }
 },
 "nbformat": 4,
 "nbformat_minor": 4
}
