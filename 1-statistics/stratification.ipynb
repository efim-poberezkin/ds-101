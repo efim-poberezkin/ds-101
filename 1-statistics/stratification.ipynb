{
 "cells": [
  {
   "cell_type": "code",
   "execution_count": 1,
   "metadata": {},
   "outputs": [],
   "source": [
    "from math import sqrt\n",
    "\n",
    "import numpy as np\n",
    "import seaborn as sns\n",
    "\n",
    "sns.set_palette('muted')\n",
    "sns.set_style('whitegrid')"
   ]
  },
  {
   "cell_type": "code",
   "execution_count": 2,
   "metadata": {},
   "outputs": [],
   "source": [
    "def generate_rnorms(N, Ws, params_list):\n",
    "    rnorms = [np.random.normal(params[0], params[1], round(N*w)) for params, w in zip(params_list, Ws)]\n",
    "    mix = np.concatenate(rnorms)\n",
    "    mix_strs = [f'{w}×N({params[0]}, {params[1]})' for params, w in zip(params_list, Ws)]\n",
    "    print (' + '.join(mix_strs))\n",
    "    print(f'Population mean: {np.mean(mix)}')\n",
    "    print(f'Population variance: {np.var(mix)}')\n",
    "    _ = sns.kdeplot(mix, bw=0.5)\n",
    "    return rnorms"
   ]
  },
  {
   "cell_type": "code",
   "execution_count": 3,
   "metadata": {},
   "outputs": [],
   "source": [
    "def print_modelling_and_estimation_results(choice, iters, n, rnorms, Ws, params_list):\n",
    "    print(f'Choice: {choice}')\n",
    "    if choice.startswith('stratify'):\n",
    "        strat_sample_sizes = get_strat_sample_sizes(n, Ws, params_list, strategy=choice.rsplit('_', 1)[1])\n",
    "        n = strat_sample_sizes\n",
    "        print(f'Strat samples sizes: {n}')\n",
    "    \n",
    "    print('Modelling results')\n",
    "    modelling_stats = model_point_estimates(choice, iters, n, rnorms)\n",
    "    print_stats(modelling_stats)\n",
    "    \n",
    "    if choice.startswith('stratify'):\n",
    "        print('Estimation results')\n",
    "        estimation_stats = estimate_point_estimates(rnorms, strat_sample_sizes, Ws)\n",
    "        print_stats(estimation_stats)\n",
    "\n",
    "def print_stats(stats):\n",
    "    print(f'\\tMean mean: {stats[0]}')\n",
    "    print(f'\\tMean variance: {stats[1]}')\n",
    "    print(f'\\tVariance mean: {stats[2]}')\n",
    "    print(f'\\tVariance variance: {stats[3]}')"
   ]
  },
  {
   "cell_type": "code",
   "execution_count": 4,
   "metadata": {},
   "outputs": [],
   "source": [
    "def get_strat_sample_sizes(n, Ws, params_list, strategy):\n",
    "    if strategy == 'prop':\n",
    "        nks = [int(n * w) for w in Ws]\n",
    "    elif strategy == 'optimal':\n",
    "        np_Ws = np.array(Ws)\n",
    "        np_sigmas = np.array([sqrt(sigma_square) for _, sigma_square in params_list])\n",
    "        props = np.divide(np.multiply(np_Ws, np_sigmas), np.dot(np_Ws, np_sigmas))\n",
    "        nks = [int(round(n * prop)) for prop in props]\n",
    "    return nks"
   ]
  },
  {
   "cell_type": "code",
   "execution_count": 5,
   "metadata": {},
   "outputs": [],
   "source": [
    "def model_point_estimates(choice, iters, n, rnorms):\n",
    "    \"\"\"Models point estimates by repeated sampling.\n",
    "    \n",
    "    If `choice` is stratification based `n` is expected to be list of strat sample sizes. \n",
    "    \"\"\"\n",
    "    means = []\n",
    "    variances = []\n",
    "    for i in range(iters):    \n",
    "        if choice == 'simple':\n",
    "            mix = np.concatenate(rnorms)\n",
    "            sample = np.random.choice(mix, n)\n",
    "            means.append(np.mean(sample))\n",
    "            variances.append(np.var(sample))\n",
    "        elif choice.startswith('stratify'):\n",
    "            strat_samples = [np.random.choice(rnorm, nk) for rnorm, nk in zip(rnorms, n)]\n",
    "            strat_mix = np.concatenate(strat_samples)\n",
    "            means.append(np.mean(strat_mix))\n",
    "            variances.append(np.var(strat_mix))\n",
    "    return np.mean(means), np.var(means), np.mean(variances), np.var(variances)"
   ]
  },
  {
   "cell_type": "code",
   "execution_count": 6,
   "metadata": {},
   "outputs": [],
   "source": [
    "def estimate_point_estimates(rnorms, strat_sample_sizes, Ws):\n",
    "    strat_samples = [np.random.choice(rnorm, nk) for rnorm, nk in zip(rnorms, strat_sample_sizes)]\n",
    "    strat_means = np.array([np.mean(sample) for sample in strat_samples])\n",
    "    strat_vars = np.array([np.var(sample) for sample in strat_samples])\n",
    "    w = np.array(Ws)\n",
    "    strats_number = len(strat_sample_sizes)\n",
    "    \n",
    "    mean_mean = np.dot(w, strat_means)\n",
    "    mean_var = np.dot(np.square(w), strat_vars)\n",
    "    w_dot_mean_minus_mean = np.subtract(np.dot(w, strat_means), strat_means)\n",
    "    var_mean = np.add(np.dot(w, strat_vars), np.dot(w, np.square(w_dot_mean_minus_mean)))\n",
    "    var_var = np.add(np.dot(w, strat_vars), np.var(np.dot(w, np.square(w_dot_mean_minus_mean))))\n",
    "    \n",
    "    return mean_mean, mean_var, var_mean, var_var"
   ]
  },
  {
   "cell_type": "code",
   "execution_count": 7,
   "metadata": {},
   "outputs": [],
   "source": [
    "_iters = 1000\n",
    "_N = 500\n",
    "_n = 100\n",
    "_Ws = [0.3, 0.5, 0.2]"
   ]
  },
  {
   "cell_type": "markdown",
   "metadata": {},
   "source": [
    "### Same means and vars"
   ]
  },
  {
   "cell_type": "code",
   "execution_count": 8,
   "metadata": {},
   "outputs": [
    {
     "name": "stdout",
     "output_type": "stream",
     "text": [
      "0.3×N(3, 1) + 0.5×N(3, 1) + 0.2×N(3, 1)\n",
      "Population mean: 2.9868559167465545\n",
      "Population variance: 0.8917224641450676\n"
     ]
    },
    {
     "data": {
      "image/png": "[encoded data removed]",
      "text/plain": [
       "<Figure size 432x288 with 1 Axes>"
      ]
     },
     "metadata": {
      "needs_background": "light"
     },
     "output_type": "display_data"
    }
   ],
   "source": [
    "_params_list = [(3, 1), (3, 1), (3, 1)]\n",
    "_rnorms = generate_rnorms(_N, _Ws, _params_list)"
   ]
  },
  {
   "cell_type": "markdown",
   "metadata": {},
   "source": [
    "##### Simple random choice"
   ]
  },
  {
   "cell_type": "code",
   "execution_count": 9,
   "metadata": {},
   "outputs": [
    {
     "name": "stdout",
     "output_type": "stream",
     "text": [
      "Choice: simple\n",
      "Modelling results\n",
      "\tMean mean: 2.9820760558237605\n",
      "\tMean variance: 0.008947994735423187\n",
      "\tVariance mean: 0.8879288881525723\n",
      "\tVariance variance: 0.015792697525378537\n"
     ]
    }
   ],
   "source": [
    "print_modelling_and_estimation_results('simple', _iters, _n, _rnorms, _Ws, _params_list)"
   ]
  },
  {
   "cell_type": "markdown",
   "metadata": {},
   "source": [
    "##### Stratified proportionally"
   ]
  },
  {
   "cell_type": "code",
   "execution_count": 10,
   "metadata": {},
   "outputs": [
    {
     "name": "stdout",
     "output_type": "stream",
     "text": [
      "Choice: stratify_prop\n",
      "Strat samples sizes: [30, 50, 20]\n",
      "Modelling results\n",
      "\tMean mean: 2.9862463482641166\n",
      "\tMean variance: 0.009016385361579934\n",
      "\tVariance mean: 0.8810376599408267\n",
      "\tVariance variance: 0.01740100107052865\n",
      "Estimation results\n",
      "\tMean mean: 3.0858773634373384\n",
      "\tMean variance: 0.2924177053059192\n",
      "\tVariance mean: 0.8397332174484887\n",
      "\tVariance variance: 0.8157396352807635\n"
     ]
    }
   ],
   "source": [
    "print_modelling_and_estimation_results('stratify_prop', _iters, _n, _rnorms, _Ws, _params_list)"
   ]
  },
  {
   "cell_type": "markdown",
   "metadata": {},
   "source": [
    "##### Stratified optimally"
   ]
  },
  {
   "cell_type": "code",
   "execution_count": 11,
   "metadata": {},
   "outputs": [
    {
     "name": "stdout",
     "output_type": "stream",
     "text": [
      "Choice: stratify_optimal\n",
      "Strat samples sizes: [30, 50, 20]\n",
      "Modelling results\n",
      "\tMean mean: 2.986845684837375\n",
      "\tMean variance: 0.009153017295977723\n",
      "\tVariance mean: 0.8884764828291479\n",
      "\tVariance variance: 0.015191804111417639\n",
      "Estimation results\n",
      "\tMean mean: 3.0317805059743197\n",
      "\tMean variance: 0.37133825083421934\n",
      "\tVariance mean: 0.9699415298533218\n",
      "\tVariance variance: 0.966289866981949\n"
     ]
    }
   ],
   "source": [
    "print_modelling_and_estimation_results('stratify_optimal', _iters, _n, _rnorms, _Ws, _params_list)"
   ]
  },
  {
   "cell_type": "markdown",
   "metadata": {},
   "source": [
    "### Different means same vars"
   ]
  },
  {
   "cell_type": "code",
   "execution_count": 12,
   "metadata": {},
   "outputs": [
    {
     "name": "stdout",
     "output_type": "stream",
     "text": [
      "0.3×N(0, 1) + 0.5×N(10, 1) + 0.2×N(3, 1)\n",
      "Population mean: 5.58125870724071\n",
      "Population variance: 21.957665153793837\n"
     ]
    },
    {
     "data": {
      "image/png": "[encoded data removed]",
      "text/plain": [
       "<Figure size 432x288 with 1 Axes>"
      ]
     },
     "metadata": {
      "needs_background": "light"
     },
     "output_type": "display_data"
    }
   ],
   "source": [
    "_params_list = [(0, 1), (10, 1), (3, 1)]\n",
    "_rnorms = generate_rnorms(_N, _Ws, _params_list)"
   ]
  },
  {
   "cell_type": "markdown",
   "metadata": {},
   "source": [
    "##### Simple random choice"
   ]
  },
  {
   "cell_type": "code",
   "execution_count": 13,
   "metadata": {},
   "outputs": [
    {
     "name": "stdout",
     "output_type": "stream",
     "text": [
      "Choice: simple\n",
      "Modelling results\n",
      "\tMean mean: 5.550779650816825\n",
      "\tMean variance: 0.21896821906199967\n",
      "\tVariance mean: 21.77723111499683\n",
      "\tVariance variance: 1.681975261074307\n"
     ]
    }
   ],
   "source": [
    "print_modelling_and_estimation_results('simple', _iters, _n, _rnorms, _Ws, _params_list)"
   ]
  },
  {
   "cell_type": "markdown",
   "metadata": {},
   "source": [
    "##### Stratified proportionally"
   ]
  },
  {
   "cell_type": "code",
   "execution_count": 14,
   "metadata": {},
   "outputs": [
    {
     "name": "stdout",
     "output_type": "stream",
     "text": [
      "Choice: stratify_prop\n",
      "Strat samples sizes: [30, 50, 20]\n",
      "Modelling results\n",
      "\tMean mean: 5.581473326261635\n",
      "\tMean variance: 0.01026468567145191\n",
      "\tVariance mean: 21.915981869006714\n",
      "\tVariance variance: 0.8969505223616745\n",
      "Estimation results\n",
      "\tMean mean: 5.5915718866700805\n",
      "\tMean variance: 0.3992487535415992\n",
      "\tVariance mean: 21.136287679406944\n",
      "\tVariance variance: 1.0974326719810996\n"
     ]
    }
   ],
   "source": [
    "print_modelling_and_estimation_results('stratify_prop', _iters, _n, _rnorms, _Ws, _params_list)"
   ]
  },
  {
   "cell_type": "markdown",
   "metadata": {},
   "source": [
    "##### Stratified optimally"
   ]
  },
  {
   "cell_type": "code",
   "execution_count": 15,
   "metadata": {},
   "outputs": [
    {
     "name": "stdout",
     "output_type": "stream",
     "text": [
      "Choice: stratify_optimal\n",
      "Strat samples sizes: [30, 50, 20]\n",
      "Modelling results\n",
      "\tMean mean: 5.584114405970566\n",
      "\tMean variance: 0.009905903765232217\n",
      "\tVariance mean: 21.86602259184226\n",
      "\tVariance variance: 0.8530893815875622\n",
      "Estimation results\n",
      "\tMean mean: 5.525446626462577\n",
      "\tMean variance: 0.46313442663280163\n",
      "\tVariance mean: 22.393481223784008\n",
      "\tVariance variance: 1.2713517157587073\n"
     ]
    }
   ],
   "source": [
    "print_modelling_and_estimation_results('stratify_optimal', _iters, _n, _rnorms, _Ws, _params_list)"
   ]
  },
  {
   "cell_type": "markdown",
   "metadata": {},
   "source": [
    "### Different means and vars"
   ]
  },
  {
   "cell_type": "code",
   "execution_count": 16,
   "metadata": {},
   "outputs": [
    {
     "name": "stdout",
     "output_type": "stream",
     "text": [
      "0.3×N(0, 0.5) + 0.5×N(10, 1) + 0.2×N(3, 0.1)\n",
      "Population mean: 5.598416780447328\n",
      "Population variance: 21.230518262078206\n"
     ]
    },
    {
     "data": {
      "image/png": "[encoded data removed]",
      "text/plain": [
       "<Figure size 432x288 with 1 Axes>"
      ]
     },
     "metadata": {
      "needs_background": "light"
     },
     "output_type": "display_data"
    }
   ],
   "source": [
    "_params_list = [(0, .5), (10, 1), (3, .1)]\n",
    "_rnorms = generate_rnorms(_N, _Ws, _params_list)"
   ]
  },
  {
   "cell_type": "markdown",
   "metadata": {},
   "source": [
    "##### Simple random choice"
   ]
  },
  {
   "cell_type": "code",
   "execution_count": 17,
   "metadata": {},
   "outputs": [
    {
     "name": "stdout",
     "output_type": "stream",
     "text": [
      "Choice: simple\n",
      "Modelling results\n",
      "\tMean mean: 5.596311939747964\n",
      "\tMean variance: 0.208119315887363\n",
      "\tVariance mean: 21.021720443408622\n",
      "\tVariance variance: 1.2889975930887618\n"
     ]
    }
   ],
   "source": [
    "print_modelling_and_estimation_results('simple', _iters, _n, _rnorms, _Ws, _params_list)"
   ]
  },
  {
   "cell_type": "markdown",
   "metadata": {},
   "source": [
    "##### Stratified proportionally"
   ]
  },
  {
   "cell_type": "code",
   "execution_count": 18,
   "metadata": {},
   "outputs": [
    {
     "name": "stdout",
     "output_type": "stream",
     "text": [
      "Choice: stratify_prop\n",
      "Strat samples sizes: [30, 50, 20]\n",
      "Modelling results\n",
      "\tMean mean: 5.598857374728994\n",
      "\tMean variance: 0.005118619329204162\n",
      "\tVariance mean: 21.196525912208237\n",
      "\tVariance variance: 0.4584516263407971\n",
      "Estimation results\n",
      "\tMean mean: 5.670820434493667\n",
      "\tMean variance: 0.20471958106946292\n",
      "\tVariance mean: 21.668619916956644\n",
      "\tVariance variance: 0.4369808283845216\n"
     ]
    }
   ],
   "source": [
    "print_modelling_and_estimation_results('stratify_prop', _iters, _n, _rnorms, _Ws, _params_list)"
   ]
  },
  {
   "cell_type": "markdown",
   "metadata": {},
   "source": [
    "##### Stratified optimally"
   ]
  },
  {
   "cell_type": "code",
   "execution_count": 19,
   "metadata": {},
   "outputs": [
    {
     "name": "stdout",
     "output_type": "stream",
     "text": [
      "Choice: stratify_optimal\n",
      "Strat samples sizes: [27, 64, 8]\n",
      "Modelling results\n",
      "\tMean mean: 6.712537514817631\n",
      "\tMean variance: 0.005888343260379491\n",
      "\tVariance mean: 21.297279625714534\n",
      "\tVariance variance: 0.38418679039687265\n",
      "Estimation results\n",
      "\tMean mean: 5.662976334328892\n",
      "\tMean variance: 0.2599781684109496\n",
      "\tVariance mean: 21.563795089626527\n",
      "\tVariance variance: 0.5673076777284787\n"
     ]
    }
   ],
   "source": [
    "print_modelling_and_estimation_results('stratify_optimal', _iters, _n, _rnorms, _Ws, _params_list)"
   ]
  },
  {
   "cell_type": "code",
   "execution_count": null,
   "metadata": {},
   "outputs": [],
   "source": []
  }
 ],
 "metadata": {
  "kernelspec": {
   "display_name": "Python 3",
   "language": "python",
   "name": "python3"
  },
  "language_info": {
   "codemirror_mode": {
    "name": "ipython",
    "version": 3
   },
   "file_extension": ".py",
   "mimetype": "text/x-python",
   "name": "python",
   "nbconvert_exporter": "python",
   "pygments_lexer": "ipython3",
   "version": "3.7.3"
  }
 },
 "nbformat": 4,
 "nbformat_minor": 4
}
